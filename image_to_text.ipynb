{
  "nbformat": 4,
  "nbformat_minor": 0,
  "metadata": {
    "colab": {
      "provenance": [],
      "authorship_tag": "ABX9TyMS+anC4YR3RcBreCRATCfZ",
      "include_colab_link": true
    },
    "kernelspec": {
      "name": "python3",
      "display_name": "Python 3"
    },
    "language_info": {
      "name": "python"
    }
  },
  "cells": [
    {
      "cell_type": "markdown",
      "metadata": {
        "id": "view-in-github",
        "colab_type": "text"
      },
      "source": [
        "<a href=\"https://colab.research.google.com/github/anantsingh1218/Image_to_text_to_audio/blob/main/image_to_text.ipynb\" target=\"_parent\"><img src=\"https://colab.research.google.com/assets/colab-badge.svg\" alt=\"Open In Colab\"/></a>"
      ]
    },
    {
      "cell_type": "code",
      "execution_count": 5,
      "metadata": {
        "colab": {
          "base_uri": "https://localhost:8080/"
        },
        "id": "skhhbeDDkXPN",
        "outputId": "4c340a17-69c1-46c0-ddbb-0fda3a19702f"
      },
      "outputs": [
        {
          "output_type": "stream",
          "name": "stdout",
          "text": [
            "Reading package lists... Done\n",
            "Building dependency tree... Done\n",
            "Reading state information... Done\n",
            "tesseract-ocr is already the newest version (4.1.1-2.1build1).\n",
            "0 upgraded, 0 newly installed, 0 to remove and 49 not upgraded.\n",
            "Requirement already satisfied: pytesseract in /usr/local/lib/python3.10/dist-packages (0.3.13)\n",
            "Requirement already satisfied: packaging>=21.3 in /usr/local/lib/python3.10/dist-packages (from pytesseract) (24.2)\n",
            "Requirement already satisfied: Pillow>=8.0.0 in /usr/local/lib/python3.10/dist-packages (from pytesseract) (11.0.0)\n",
            "Requirement already satisfied: gTTS in /usr/local/lib/python3.10/dist-packages (2.5.4)\n",
            "Requirement already satisfied: requests<3,>=2.27 in /usr/local/lib/python3.10/dist-packages (from gTTS) (2.32.3)\n",
            "Requirement already satisfied: click<8.2,>=7.1 in /usr/local/lib/python3.10/dist-packages (from gTTS) (8.1.7)\n",
            "Requirement already satisfied: charset-normalizer<4,>=2 in /usr/local/lib/python3.10/dist-packages (from requests<3,>=2.27->gTTS) (3.4.0)\n",
            "Requirement already satisfied: idna<4,>=2.5 in /usr/local/lib/python3.10/dist-packages (from requests<3,>=2.27->gTTS) (3.10)\n",
            "Requirement already satisfied: urllib3<3,>=1.21.1 in /usr/local/lib/python3.10/dist-packages (from requests<3,>=2.27->gTTS) (2.2.3)\n",
            "Requirement already satisfied: certifi>=2017.4.17 in /usr/local/lib/python3.10/dist-packages (from requests<3,>=2.27->gTTS) (2024.8.30)\n",
            "install: missing destination file operand after 'Pillow==9.0.0'\n",
            "Try 'install --help' for more information.\n"
          ]
        }
      ],
      "source": [
        "!sudo apt install tesseract-ocr\n",
        "!pip install pytesseract # Tesseract will be used to recognize and extract text from images.\n",
        "!pip install gTTS #Google Text-to-Speech, a Python library for text-to-speech conversion using Google's TTS API.\n",
        "!install Pillow==9.0.0 # version of pillow library(for image processing)."
      ]
    },
    {
      "cell_type": "code",
      "source": [
        "import pytesseract\n",
        "from PIL import Image #imports image class from pillow library.enables to open, manipulate, and save image files.\n",
        "import gtts"
      ],
      "metadata": {
        "id": "t5QAgB-UkqgA"
      },
      "execution_count": 6,
      "outputs": []
    },
    {
      "cell_type": "code",
      "source": [
        "img= Image.open('/content/Diwali story.png')\n",
        "print(img)"
      ],
      "metadata": {
        "colab": {
          "base_uri": "https://localhost:8080/"
        },
        "id": "OszzlQzIm2w0",
        "outputId": "10fe72ca-c565-414c-b0ad-e8a567a6299b"
      },
      "execution_count": 7,
      "outputs": [
        {
          "output_type": "stream",
          "name": "stdout",
          "text": [
            "<PIL.PngImagePlugin.PngImageFile image mode=RGBA size=1080x1920 at 0x7E17281FFAF0>\n"
          ]
        }
      ]
    },
    {
      "cell_type": "code",
      "source": [
        "result= pytesseract.image_to_string(img)\n",
        "print(result)\n",
        "tts=gtts.gTTS(result) # the extracted text (result) is passed to gTTS, which converts the text into speech.\n",
        "tts.save(\"hello.mp3\")\n"
      ],
      "metadata": {
        "colab": {
          "base_uri": "https://localhost:8080/"
        },
        "id": "lAFTc0z_oBcj",
        "outputId": "15928b80-a3ca-4f5c-90f3-1bbfaf87470b"
      },
      "execution_count": 8,
      "outputs": [
        {
          "output_type": "stream",
          "name": "stdout",
          "text": [
            "TIET FITNESS\n",
            "CLusB\n",
            "\n",
            "Wishes you\n",
            "\n",
            "Wey\n",
            "\n",
            "Lye\n",
            "L\n",
            "May a million lamps brighten\n",
            "\n",
            "and enlighten your life with everlasting\n",
            "Joy, Health, Wealth & Peace!\n",
            "\n",
            " \n",
            "\f\n"
          ]
        }
      ]
    }
  ]
}